{
  "nbformat": 4,
  "nbformat_minor": 0,
  "metadata": {
    "colab": {
      "provenance": []
    },
    "kernelspec": {
      "name": "python3",
      "display_name": "Python 3"
    },
    "language_info": {
      "name": "python"
    }
  },
  "cells": [
    {
      "cell_type": "markdown",
      "source": [
        "# **In this Assignment we will work on basic text preprocessing process for Natural Language Processing Tasks which includes Lemmatization, Tokenization, Removal of Punctuation, Regular Expression etc**"
      ],
      "metadata": {
        "id": "p3EYX0-Qd1Br"
      }
    },
    {
      "cell_type": "markdown",
      "source": [
        "# **Importing Necessary Libraries**"
      ],
      "metadata": {
        "id": "qIh0T4Pfihzf"
      }
    },
    {
      "cell_type": "code",
      "execution_count": 37,
      "metadata": {
        "id": "UlPE510hdyXh"
      },
      "outputs": [],
      "source": [
        "import nltk\n",
        "import re\n",
        "from nltk.stem import WordNetLemmatizer\n",
        "from nltk.tokenize import word_tokenize\n",
        "from nltk.corpus import stopwords\n",
        "import pandas as pd\n",
        "import matplotlib.pyplot as plt"
      ]
    },
    {
      "cell_type": "markdown",
      "source": [
        "# **Importing the textfile**"
      ],
      "metadata": {
        "id": "1VMMmL0WioJv"
      }
    },
    {
      "cell_type": "code",
      "source": [
        "with open('/content/Textfile.txt', 'r') as file:\n",
        "    text = file.read()"
      ],
      "metadata": {
        "id": "KPXZzZrCinmH"
      },
      "execution_count": 38,
      "outputs": []
    },
    {
      "cell_type": "code",
      "source": [
        "print(text)"
      ],
      "metadata": {
        "colab": {
          "base_uri": "https://localhost:8080/"
        },
        "id": "3ACAvO3Xi6Bo",
        "outputId": "c153944f-7050-4f1b-8d55-4469fdae99e2"
      },
      "execution_count": 39,
      "outputs": [
        {
          "output_type": "stream",
          "name": "stdout",
          "text": [
            "What do you know about SIU? Southern Illinois University Carbondale (SIUC) is a public research university located in Carbondale, Illinois. Founded in 1869, SIUC is the flagship campus of the Southern Illinois University system.\n",
            "The university offers a wide range of undergraduate, graduate, and professional programs. It is known for its strong emphasis on research, innovation, and student's engagement.\n",
            "Southern Illinois University (SIU or SIUC) is a public research university in Carbondale, Illinois. Chartered in 1869, SIU is the oldest and flagship campus of the Southern Illinois University system. SIU enrolls students from all 50 states and more than 100 countries.[6] Originally founded as a normal college, the university today provides programs in a variety of disciplines, combining a strong liberal arts tradition with a focus on research. SIU was granted limited university status in 1943 and began offering graduate degrees in 1950. A separate campus was established in Edwardsville, Illinois in 1957, eventually becoming Southern Illinois University Edwardsville.[7]\n",
            "The university is classified among \"R2: Doctoral Universities – High research activity\".[8] It is also known for its research partnerships, including those with the Argonne and Oak Ridge National Laboratories, the U.S. Geological Survey, the U.S. Fish and Wildlife Service, and NASA. The university is home to hundreds of student organizations, twenty-seven fraternity and sorority chapters, and a nationally-recognized competitive flight team.[9] SIU's intercollegiate athletic teams are collectively known as the Southern Illinois Salukis.\n"
          ]
        }
      ]
    },
    {
      "cell_type": "markdown",
      "source": [
        "# **Making every letter lowercase**"
      ],
      "metadata": {
        "id": "yQ-3vd0HDk65"
      }
    },
    {
      "cell_type": "code",
      "source": [
        "text=text.lower()\n",
        "print(text)"
      ],
      "metadata": {
        "colab": {
          "base_uri": "https://localhost:8080/"
        },
        "id": "ssnLZG6ODwpI",
        "outputId": "bc315cbf-515f-4cca-cf2d-6b73392be0e1"
      },
      "execution_count": 46,
      "outputs": [
        {
          "output_type": "stream",
          "name": "stdout",
          "text": [
            "what do you know about siu? southern illinois university carbondale (siuc) is a public research university located in carbondale, illinois. founded in 1869, siuc is the flagship campus of the southern illinois university system.\n",
            "the university offers a wide range of undergraduate, graduate, and professional programs. it is known for its strong emphasis on research, innovation, and student's engagement.\n",
            "southern illinois university (siu or siuc) is a public research university in carbondale, illinois. chartered in 1869, siu is the oldest and flagship campus of the southern illinois university system. siu enrolls students from all 50 states and more than 100 countries.[6] originally founded as a normal college, the university today provides programs in a variety of disciplines, combining a strong liberal arts tradition with a focus on research. siu was granted limited university status in 1943 and began offering graduate degrees in 1950. a separate campus was established in edwardsville, illinois in 1957, eventually becoming southern illinois university edwardsville.[7]\n",
            "the university is classified among \"r2: doctoral universities – high research activity\".[8] it is also known for its research partnerships, including those with the argonne and oak ridge national laboratories, the u.s. geological survey, the u.s. fish and wildlife service, and nasa. the university is home to hundreds of student organizations, twenty-seven fraternity and sorority chapters, and a nationally-recognized competitive flight team.[9] siu's intercollegiate athletic teams are collectively known as the southern illinois salukis.\n"
          ]
        }
      ]
    },
    {
      "cell_type": "markdown",
      "source": [
        "**Removing texts inside parenthesis <8>,[32] which are present in the text**"
      ],
      "metadata": {
        "id": "T5jvwkjQBLbe"
      }
    },
    {
      "cell_type": "code",
      "source": [
        "pattern= r'\\(.*?\\)|\\[.*?\\]|\\{.*?\\}'\n",
        "remove_content=re.sub(pattern,'',text)\n",
        "print(remove_content)"
      ],
      "metadata": {
        "colab": {
          "base_uri": "https://localhost:8080/"
        },
        "id": "vzE_TzhkBJ4I",
        "outputId": "1b96a218-84c2-4d62-b1db-0e6f2311d3c8"
      },
      "execution_count": 47,
      "outputs": [
        {
          "output_type": "stream",
          "name": "stdout",
          "text": [
            "what do you know about siu? southern illinois university carbondale  is a public research university located in carbondale, illinois. founded in 1869, siuc is the flagship campus of the southern illinois university system.\n",
            "the university offers a wide range of undergraduate, graduate, and professional programs. it is known for its strong emphasis on research, innovation, and student's engagement.\n",
            "southern illinois university  is a public research university in carbondale, illinois. chartered in 1869, siu is the oldest and flagship campus of the southern illinois university system. siu enrolls students from all 50 states and more than 100 countries. originally founded as a normal college, the university today provides programs in a variety of disciplines, combining a strong liberal arts tradition with a focus on research. siu was granted limited university status in 1943 and began offering graduate degrees in 1950. a separate campus was established in edwardsville, illinois in 1957, eventually becoming southern illinois university edwardsville.\n",
            "the university is classified among \"r2: doctoral universities – high research activity\". it is also known for its research partnerships, including those with the argonne and oak ridge national laboratories, the u.s. geological survey, the u.s. fish and wildlife service, and nasa. the university is home to hundreds of student organizations, twenty-seven fraternity and sorority chapters, and a nationally-recognized competitive flight team. siu's intercollegiate athletic teams are collectively known as the southern illinois salukis.\n"
          ]
        }
      ]
    },
    {
      "cell_type": "markdown",
      "source": [
        " **Remove Punctuation Marks**"
      ],
      "metadata": {
        "id": "ms0oa8RUAFx7"
      }
    },
    {
      "cell_type": "code",
      "source": [
        "#Special characters are anything but letters or words\n",
        "pattern=r'[^\\w\\s]'\n",
        "punc_removed_text=re.sub(pattern,'',remove_content)\n",
        "print(punc_removed_text)"
      ],
      "metadata": {
        "colab": {
          "base_uri": "https://localhost:8080/"
        },
        "id": "P1CqNABxAFLz",
        "outputId": "73034ec9-6ad8-4928-ea3a-f8293243c665"
      },
      "execution_count": 48,
      "outputs": [
        {
          "output_type": "stream",
          "name": "stdout",
          "text": [
            "what do you know about siu southern illinois university carbondale  is a public research university located in carbondale illinois founded in 1869 siuc is the flagship campus of the southern illinois university system\n",
            "the university offers a wide range of undergraduate graduate and professional programs it is known for its strong emphasis on research innovation and students engagement\n",
            "southern illinois university  is a public research university in carbondale illinois chartered in 1869 siu is the oldest and flagship campus of the southern illinois university system siu enrolls students from all 50 states and more than 100 countries originally founded as a normal college the university today provides programs in a variety of disciplines combining a strong liberal arts tradition with a focus on research siu was granted limited university status in 1943 and began offering graduate degrees in 1950 a separate campus was established in edwardsville illinois in 1957 eventually becoming southern illinois university edwardsville\n",
            "the university is classified among r2 doctoral universities  high research activity it is also known for its research partnerships including those with the argonne and oak ridge national laboratories the us geological survey the us fish and wildlife service and nasa the university is home to hundreds of student organizations twentyseven fraternity and sorority chapters and a nationallyrecognized competitive flight team sius intercollegiate athletic teams are collectively known as the southern illinois salukis\n"
          ]
        }
      ]
    },
    {
      "cell_type": "markdown",
      "source": [
        "# **Word Tokenization**"
      ],
      "metadata": {
        "id": "s7J722YfC2iI"
      }
    },
    {
      "cell_type": "code",
      "source": [
        "nltk.download('punkt')\n",
        "tokens=word_tokenize(punc_removed_text)\n",
        "print(tokens)"
      ],
      "metadata": {
        "colab": {
          "base_uri": "https://localhost:8080/"
        },
        "id": "xXqmeEm1BB-d",
        "outputId": "ce577620-9bd4-4a64-eaef-55caf2da5e65"
      },
      "execution_count": 49,
      "outputs": [
        {
          "output_type": "stream",
          "name": "stdout",
          "text": [
            "['what', 'do', 'you', 'know', 'about', 'siu', 'southern', 'illinois', 'university', 'carbondale', 'is', 'a', 'public', 'research', 'university', 'located', 'in', 'carbondale', 'illinois', 'founded', 'in', '1869', 'siuc', 'is', 'the', 'flagship', 'campus', 'of', 'the', 'southern', 'illinois', 'university', 'system', 'the', 'university', 'offers', 'a', 'wide', 'range', 'of', 'undergraduate', 'graduate', 'and', 'professional', 'programs', 'it', 'is', 'known', 'for', 'its', 'strong', 'emphasis', 'on', 'research', 'innovation', 'and', 'students', 'engagement', 'southern', 'illinois', 'university', 'is', 'a', 'public', 'research', 'university', 'in', 'carbondale', 'illinois', 'chartered', 'in', '1869', 'siu', 'is', 'the', 'oldest', 'and', 'flagship', 'campus', 'of', 'the', 'southern', 'illinois', 'university', 'system', 'siu', 'enrolls', 'students', 'from', 'all', '50', 'states', 'and', 'more', 'than', '100', 'countries', 'originally', 'founded', 'as', 'a', 'normal', 'college', 'the', 'university', 'today', 'provides', 'programs', 'in', 'a', 'variety', 'of', 'disciplines', 'combining', 'a', 'strong', 'liberal', 'arts', 'tradition', 'with', 'a', 'focus', 'on', 'research', 'siu', 'was', 'granted', 'limited', 'university', 'status', 'in', '1943', 'and', 'began', 'offering', 'graduate', 'degrees', 'in', '1950', 'a', 'separate', 'campus', 'was', 'established', 'in', 'edwardsville', 'illinois', 'in', '1957', 'eventually', 'becoming', 'southern', 'illinois', 'university', 'edwardsville', 'the', 'university', 'is', 'classified', 'among', 'r2', 'doctoral', 'universities', 'high', 'research', 'activity', 'it', 'is', 'also', 'known', 'for', 'its', 'research', 'partnerships', 'including', 'those', 'with', 'the', 'argonne', 'and', 'oak', 'ridge', 'national', 'laboratories', 'the', 'us', 'geological', 'survey', 'the', 'us', 'fish', 'and', 'wildlife', 'service', 'and', 'nasa', 'the', 'university', 'is', 'home', 'to', 'hundreds', 'of', 'student', 'organizations', 'twentyseven', 'fraternity', 'and', 'sorority', 'chapters', 'and', 'a', 'nationallyrecognized', 'competitive', 'flight', 'team', 'sius', 'intercollegiate', 'athletic', 'teams', 'are', 'collectively', 'known', 'as', 'the', 'southern', 'illinois', 'salukis']\n"
          ]
        },
        {
          "output_type": "stream",
          "name": "stderr",
          "text": [
            "[nltk_data] Downloading package punkt to /root/nltk_data...\n",
            "[nltk_data]   Package punkt is already up-to-date!\n"
          ]
        }
      ]
    },
    {
      "cell_type": "markdown",
      "source": [
        "# **Remove Stopwords**"
      ],
      "metadata": {
        "id": "7xXRI7owDJnp"
      }
    },
    {
      "cell_type": "code",
      "source": [
        "nltk.download('stopwords')\n",
        "stop_words=set(stopwords.words('english'))\n",
        "stop_clear_tokenset=[word for word in tokens if word.lower()]\n",
        "print(stop_clear_tokenset)"
      ],
      "metadata": {
        "colab": {
          "base_uri": "https://localhost:8080/"
        },
        "id": "2N5aGqS-DMie",
        "outputId": "00e54a4c-932e-4bbb-9430-5c98d2565c95"
      },
      "execution_count": 52,
      "outputs": [
        {
          "output_type": "stream",
          "name": "stdout",
          "text": [
            "['what', 'do', 'you', 'know', 'about', 'siu', 'southern', 'illinois', 'university', 'carbondale', 'is', 'a', 'public', 'research', 'university', 'located', 'in', 'carbondale', 'illinois', 'founded', 'in', '1869', 'siuc', 'is', 'the', 'flagship', 'campus', 'of', 'the', 'southern', 'illinois', 'university', 'system', 'the', 'university', 'offers', 'a', 'wide', 'range', 'of', 'undergraduate', 'graduate', 'and', 'professional', 'programs', 'it', 'is', 'known', 'for', 'its', 'strong', 'emphasis', 'on', 'research', 'innovation', 'and', 'students', 'engagement', 'southern', 'illinois', 'university', 'is', 'a', 'public', 'research', 'university', 'in', 'carbondale', 'illinois', 'chartered', 'in', '1869', 'siu', 'is', 'the', 'oldest', 'and', 'flagship', 'campus', 'of', 'the', 'southern', 'illinois', 'university', 'system', 'siu', 'enrolls', 'students', 'from', 'all', '50', 'states', 'and', 'more', 'than', '100', 'countries', 'originally', 'founded', 'as', 'a', 'normal', 'college', 'the', 'university', 'today', 'provides', 'programs', 'in', 'a', 'variety', 'of', 'disciplines', 'combining', 'a', 'strong', 'liberal', 'arts', 'tradition', 'with', 'a', 'focus', 'on', 'research', 'siu', 'was', 'granted', 'limited', 'university', 'status', 'in', '1943', 'and', 'began', 'offering', 'graduate', 'degrees', 'in', '1950', 'a', 'separate', 'campus', 'was', 'established', 'in', 'edwardsville', 'illinois', 'in', '1957', 'eventually', 'becoming', 'southern', 'illinois', 'university', 'edwardsville', 'the', 'university', 'is', 'classified', 'among', 'r2', 'doctoral', 'universities', 'high', 'research', 'activity', 'it', 'is', 'also', 'known', 'for', 'its', 'research', 'partnerships', 'including', 'those', 'with', 'the', 'argonne', 'and', 'oak', 'ridge', 'national', 'laboratories', 'the', 'us', 'geological', 'survey', 'the', 'us', 'fish', 'and', 'wildlife', 'service', 'and', 'nasa', 'the', 'university', 'is', 'home', 'to', 'hundreds', 'of', 'student', 'organizations', 'twentyseven', 'fraternity', 'and', 'sorority', 'chapters', 'and', 'a', 'nationallyrecognized', 'competitive', 'flight', 'team', 'sius', 'intercollegiate', 'athletic', 'teams', 'are', 'collectively', 'known', 'as', 'the', 'southern', 'illinois', 'salukis']\n"
          ]
        },
        {
          "output_type": "stream",
          "name": "stderr",
          "text": [
            "[nltk_data] Downloading package stopwords to /root/nltk_data...\n",
            "[nltk_data]   Package stopwords is already up-to-date!\n"
          ]
        }
      ]
    },
    {
      "cell_type": "markdown",
      "source": [
        "# **Lemmatization**"
      ],
      "metadata": {
        "id": "AvcFIWJ0EGG6"
      }
    },
    {
      "cell_type": "code",
      "source": [
        "from nltk.stem import WordNetLemmatizer\n",
        "nltk.download('wordnet')\n",
        "lemmatizer=WordNetLemmatizer()\n",
        "lemmatized_tokens=[lemmatizer.lemmatize(token) for token in stop_clear_tokenset]\n",
        "\n",
        "print(lemmatized_tokens)"
      ],
      "metadata": {
        "colab": {
          "base_uri": "https://localhost:8080/"
        },
        "id": "n5TfKdXAEMf-",
        "outputId": "214dd41a-4c37-4c4b-c097-71b3e16f5da8"
      },
      "execution_count": 54,
      "outputs": [
        {
          "output_type": "stream",
          "name": "stdout",
          "text": [
            "['what', 'do', 'you', 'know', 'about', 'siu', 'southern', 'illinois', 'university', 'carbondale', 'is', 'a', 'public', 'research', 'university', 'located', 'in', 'carbondale', 'illinois', 'founded', 'in', '1869', 'siuc', 'is', 'the', 'flagship', 'campus', 'of', 'the', 'southern', 'illinois', 'university', 'system', 'the', 'university', 'offer', 'a', 'wide', 'range', 'of', 'undergraduate', 'graduate', 'and', 'professional', 'program', 'it', 'is', 'known', 'for', 'it', 'strong', 'emphasis', 'on', 'research', 'innovation', 'and', 'student', 'engagement', 'southern', 'illinois', 'university', 'is', 'a', 'public', 'research', 'university', 'in', 'carbondale', 'illinois', 'chartered', 'in', '1869', 'siu', 'is', 'the', 'oldest', 'and', 'flagship', 'campus', 'of', 'the', 'southern', 'illinois', 'university', 'system', 'siu', 'enrolls', 'student', 'from', 'all', '50', 'state', 'and', 'more', 'than', '100', 'country', 'originally', 'founded', 'a', 'a', 'normal', 'college', 'the', 'university', 'today', 'provides', 'program', 'in', 'a', 'variety', 'of', 'discipline', 'combining', 'a', 'strong', 'liberal', 'art', 'tradition', 'with', 'a', 'focus', 'on', 'research', 'siu', 'wa', 'granted', 'limited', 'university', 'status', 'in', '1943', 'and', 'began', 'offering', 'graduate', 'degree', 'in', '1950', 'a', 'separate', 'campus', 'wa', 'established', 'in', 'edwardsville', 'illinois', 'in', '1957', 'eventually', 'becoming', 'southern', 'illinois', 'university', 'edwardsville', 'the', 'university', 'is', 'classified', 'among', 'r2', 'doctoral', 'university', 'high', 'research', 'activity', 'it', 'is', 'also', 'known', 'for', 'it', 'research', 'partnership', 'including', 'those', 'with', 'the', 'argonne', 'and', 'oak', 'ridge', 'national', 'laboratory', 'the', 'u', 'geological', 'survey', 'the', 'u', 'fish', 'and', 'wildlife', 'service', 'and', 'nasa', 'the', 'university', 'is', 'home', 'to', 'hundred', 'of', 'student', 'organization', 'twentyseven', 'fraternity', 'and', 'sorority', 'chapter', 'and', 'a', 'nationallyrecognized', 'competitive', 'flight', 'team', 'sius', 'intercollegiate', 'athletic', 'team', 'are', 'collectively', 'known', 'a', 'the', 'southern', 'illinois', 'saluki']\n"
          ]
        },
        {
          "output_type": "stream",
          "name": "stderr",
          "text": [
            "[nltk_data] Downloading package wordnet to /root/nltk_data...\n",
            "[nltk_data]   Package wordnet is already up-to-date!\n"
          ]
        }
      ]
    },
    {
      "cell_type": "markdown",
      "source": [
        "# **Stemming**"
      ],
      "metadata": {
        "id": "NLciG0h0EeuK"
      }
    },
    {
      "cell_type": "code",
      "source": [
        "from nltk.stem import PorterStemmer\n",
        "stemmer=PorterStemmer()\n",
        "stemmed_tokens=[stemmer.stem(lem_token) for lem_token in lemmatized_tokens]\n",
        "print(stemmed_tokens)"
      ],
      "metadata": {
        "colab": {
          "base_uri": "https://localhost:8080/"
        },
        "id": "JB6RzqHNEhqS",
        "outputId": "4a8dd745-dbba-4040-eb49-982d2b82163a"
      },
      "execution_count": 56,
      "outputs": [
        {
          "output_type": "stream",
          "name": "stdout",
          "text": [
            "['what', 'do', 'you', 'know', 'about', 'siu', 'southern', 'illinoi', 'univers', 'carbondal', 'is', 'a', 'public', 'research', 'univers', 'locat', 'in', 'carbondal', 'illinoi', 'found', 'in', '1869', 'siuc', 'is', 'the', 'flagship', 'campu', 'of', 'the', 'southern', 'illinoi', 'univers', 'system', 'the', 'univers', 'offer', 'a', 'wide', 'rang', 'of', 'undergradu', 'graduat', 'and', 'profession', 'program', 'it', 'is', 'known', 'for', 'it', 'strong', 'emphasi', 'on', 'research', 'innov', 'and', 'student', 'engag', 'southern', 'illinoi', 'univers', 'is', 'a', 'public', 'research', 'univers', 'in', 'carbondal', 'illinoi', 'charter', 'in', '1869', 'siu', 'is', 'the', 'oldest', 'and', 'flagship', 'campu', 'of', 'the', 'southern', 'illinoi', 'univers', 'system', 'siu', 'enrol', 'student', 'from', 'all', '50', 'state', 'and', 'more', 'than', '100', 'countri', 'origin', 'found', 'a', 'a', 'normal', 'colleg', 'the', 'univers', 'today', 'provid', 'program', 'in', 'a', 'varieti', 'of', 'disciplin', 'combin', 'a', 'strong', 'liber', 'art', 'tradit', 'with', 'a', 'focu', 'on', 'research', 'siu', 'wa', 'grant', 'limit', 'univers', 'statu', 'in', '1943', 'and', 'began', 'offer', 'graduat', 'degre', 'in', '1950', 'a', 'separ', 'campu', 'wa', 'establish', 'in', 'edwardsvil', 'illinoi', 'in', '1957', 'eventu', 'becom', 'southern', 'illinoi', 'univers', 'edwardsvil', 'the', 'univers', 'is', 'classifi', 'among', 'r2', 'doctor', 'univers', 'high', 'research', 'activ', 'it', 'is', 'also', 'known', 'for', 'it', 'research', 'partnership', 'includ', 'those', 'with', 'the', 'argonn', 'and', 'oak', 'ridg', 'nation', 'laboratori', 'the', 'u', 'geolog', 'survey', 'the', 'u', 'fish', 'and', 'wildlif', 'servic', 'and', 'nasa', 'the', 'univers', 'is', 'home', 'to', 'hundr', 'of', 'student', 'organ', 'twentyseven', 'fratern', 'and', 'soror', 'chapter', 'and', 'a', 'nationallyrecogn', 'competit', 'flight', 'team', 'siu', 'intercollegi', 'athlet', 'team', 'are', 'collect', 'known', 'a', 'the', 'southern', 'illinoi', 'saluki']\n"
          ]
        }
      ]
    },
    {
      "cell_type": "markdown",
      "source": [
        "# **Second Part Correcting Misspelling Using Cosine Distance**"
      ],
      "metadata": {
        "id": "N7HljNRhFiDG"
      }
    },
    {
      "cell_type": "markdown",
      "source": [
        "**Cosine Matrix will be used to correct the word**"
      ],
      "metadata": {
        "id": "eJc_Eaj3FzAO"
      }
    },
    {
      "cell_type": "code",
      "source": [
        "from sklearn.feature_extraction.text import TfidfVectorizer\n",
        "from sklearn.metrics.pairwise import cosine_similarity\n",
        "import numpy as np\n",
        "# Example dictionary of correct words\n",
        "reference_word_dict = stop_clear_tokenset\n",
        "\n",
        "# The misspelled word\n",
        "misspelled_word = ['reseerch','daktoral']\n",
        "\n",
        "# Combine the misspelled word with the dictionary\n",
        "for word in misspelled_word:\n",
        "\n",
        "  words = reference_word_dict + [word]\n",
        "\n",
        "  # Vectorize the words using TF-IDF\n",
        "  vectorizer = TfidfVectorizer().fit_transform(words)\n",
        "  vectors = vectorizer.toarray()\n",
        "\n",
        "  # Calculate cosine similarities\n",
        "  cosine_similarities = cosine_similarity(vectors[-1:], vectors[:-1])\n",
        "\n",
        "  # Find the index of the most similar word\n",
        "  most_similar_index = np.argmax(cosine_similarities)\n",
        "\n",
        "  # Get the corrected word\n",
        "  corrected_word = reference_word_dict[most_similar_index]\n",
        "\n",
        "  print(f\"Corrected word for '{word}': {corrected_word}\")"
      ],
      "metadata": {
        "colab": {
          "base_uri": "https://localhost:8080/"
        },
        "id": "6QwYEEP2FvnF",
        "outputId": "656079b2-d781-4ee2-e892-630503110811"
      },
      "execution_count": 60,
      "outputs": [
        {
          "output_type": "stream",
          "name": "stdout",
          "text": [
            "Corrected word for 'reseerch': what\n",
            "Corrected word for 'daktoral': what\n"
          ]
        }
      ]
    }
  ]
}